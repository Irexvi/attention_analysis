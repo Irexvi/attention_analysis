{
 "cells": [
  {
   "cell_type": "code",
   "execution_count": 33,
   "id": "4a2908d5-df6b-4799-9f31-2260f50af786",
   "metadata": {},
   "outputs": [],
   "source": [
    "import pandas as pd\n",
    "import glob\n",
    "import os\n",
    "import statistics\n",
    "from pathlib import Path\n",
    "from bokeh.models import HoverTool\n",
    "from bokeh.plotting import figure, show\n",
    "import matplotlib.pyplot as plt\n",
    "import datetime\n",
    "import numpy as np\n",
    "\n",
    "df = pd.read_csv('8-920-1941.csv')"
   ]
  },
  {
   "cell_type": "code",
   "execution_count": 34,
   "id": "9fd5cd55-36b6-4bad-8182-8e56b4c43408",
   "metadata": {},
   "outputs": [
    {
     "name": "stdout",
     "output_type": "stream",
     "text": [
      "None\n"
     ]
    },
    {
     "data": {
      "image/png": "[encoded data removed]",
      "text/plain": [
       "<Figure size 432x288 with 1 Axes>"
      ]
     },
     "metadata": {
      "needs_background": "light"
     },
     "output_type": "display_data"
    }
   ],
   "source": [
    "# Paso 1: Frecuencia de lo detectado.\n",
    "# datos = df['Timestamp'].where(df['Emotion'] == 'not paying attention')\n",
    "def freqdect():\n",
    "    path = os.getcwd() +'\\*.csv'\n",
    "    data = pd.DataFrame()\n",
    "    for fname in glob.glob(path):\n",
    "        df = pd.read_csv(fname)\n",
    "        data = data.append(df,ignore_index=True)\n",
    "    plt.hist(data['Emotion'])\n",
    "    \n",
    "print(freqdect())"
   ]
  },
  {
   "cell_type": "code",
   "execution_count": 39,
   "id": "11f9e73d-e0ee-4fa0-ab29-07c7560d3fb4",
   "metadata": {},
   "outputs": [
    {
     "name": "stdout",
     "output_type": "stream",
     "text": [
      "Si prestaron at.\n"
     ]
    }
   ],
   "source": [
    "# Paso 2: Promedio de la clase, para saber que tan interactiva es.\n",
    "def mean_of_class():    \n",
    "    path = os.getcwd() +'\\*.csv'\n",
    "    all_means = []\n",
    "    for fname in glob.glob(path):\n",
    "        df = pd.read_csv(fname)\n",
    "        mean = df['Emotion_Value'].mean()\n",
    "        all_means.append(mean)\n",
    "    attention = statistics.mean(all_means)\n",
    "    if attention <0:\n",
    "        return 'No prestaron at.'\n",
    "    else:\n",
    "        return 'Si prestaron at.'"
   ]
  },
  {
   "cell_type": "code",
   "execution_count": 38,
   "id": "7ae7bef5-53f1-47ce-aaf5-403e2bc7aab5",
   "metadata": {},
   "outputs": [
    {
     "name": "stdout",
     "output_type": "stream",
     "text": [
      "   student_id      mean  median       std\n",
      "0  8-141-1385  0.996332   1.000  0.014698\n",
      "1  8-357-1002  0.994221   1.000  0.029527\n",
      "2  8-914-1545  0.995214   0.998  0.009647\n",
      "3  8-920-1243 -0.098908  -1.000  0.948598\n",
      "4  8-920-1941 -0.098908  -1.000  0.948598\n",
      "5  8-969-1941 -0.098908  -1.000  0.948598\n"
     ]
    }
   ],
   "source": [
    "# Paso 3: Analisis de cada estudiante.\n",
    "def attention_analytics():\n",
    "    path = os.getcwd() +'\\*.csv'\n",
    "    data = pd.DataFrame()\n",
    "    for fname in glob.glob(path):\n",
    "        df = pd.read_csv(fname)\n",
    "        std = df['Emotion_Value'].std() #Desviacion estandar\n",
    "        median = df['Emotion_Value'].median() #Media\n",
    "        mean = df['Emotion_Value'].mean()\n",
    "        name = Path(fname).stem\n",
    "        estudiante={'student_id':name,'std':std,'median':median,'mean':mean}\n",
    "        data = data.append(estudiante,ignore_index=True)\n",
    "    return data[['student_id','mean','median','std']]\n",
    "        \n",
    "    \n",
    "print(attention_analytics())"
   ]
  },
  {
   "cell_type": "code",
   "execution_count": 40,
   "id": "ac1f9a2a-e169-49f0-bdea-02526d655988",
   "metadata": {},
   "outputs": [],
   "source": [
    "# $$$$ EXTRA $$$$\n",
    "# Un PopUp por si dura 10 minutos un estudiante estando perdido.\n",
    "def perdidox(df):\n",
    "    count = 0\n",
    "    for value in df['Emotional_Value']:\n",
    "        if value == -1:\n",
    "            count+=1\n",
    "        else:\n",
    "            count = 0\n",
    "    if count>=50:\n",
    "        return 'Mandar alerta'\n",
    "    else:\n",
    "        return 'No mandar alerta'"
   ]
  },
  {
   "cell_type": "code",
   "execution_count": 35,
   "id": "c6ddecc9-f8db-4461-b2a4-b62b6cca2613",
   "metadata": {},
   "outputs": [],
   "source": [
    "# Time series\n",
    "y_line = 'Emotion_Value'\n",
    "\n",
    "TOOLTIPS = HoverTool(tooltips=[\n",
    "    (\"index\", \"$index\"),\n",
    "    (\"Timestamp\", \"@Timestamp\"),\n",
    "    (\"Emotion\", \"@Emotion\")\n",
    "]\n",
    ")\n",
    "p = figure(title='Estudiante' ,x_axis_label='Id',y_axis_label='Emotion_Value', plot_width=700, plot_height=700, tools=[TOOLTIPS])\n",
    "p.line('index',y_line, line_width=2, source=df)\n",
    "show(p)"
   ]
  },
  {
   "cell_type": "code",
   "execution_count": null,
   "id": "6f946b5a-c115-4fff-b4d9-420148afde0b",
   "metadata": {},
   "outputs": [],
   "source": []
  }
 ],
 "metadata": {
  "kernelspec": {
   "display_name": "Python 3",
   "language": "python",
   "name": "python3"
  },
  "language_info": {
   "codemirror_mode": {
    "name": "ipython",
    "version": 3
   },
   "file_extension": ".py",
   "mimetype": "text/x-python",
   "name": "python",
   "nbconvert_exporter": "python",
   "pygments_lexer": "ipython3",
   "version": "3.8.8"
  }
 },
 "nbformat": 4,
 "nbformat_minor": 5
}
